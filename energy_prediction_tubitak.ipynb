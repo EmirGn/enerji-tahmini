{
  "metadata": {
    "kernelspec": {
      "display_name": "Python 3",
      "name": "python3"
    },
    "language_info": {
      "name": "python",
      "version": "3.10.12",
      "mimetype": "text/x-python",
      "codemirror_mode": {
        "name": "ipython",
        "version": 3
      },
      "pygments_lexer": "ipython3",
      "nbconvert_exporter": "python",
      "file_extension": ".py"
    },
    "kaggle": {
      "accelerator": "nvidiaTeslaT4",
      "dataSources": [
        {
          "sourceId": 57236,
          "databundleVersionId": 7292407,
          "sourceType": "competition"
        }
      ],
      "dockerImageVersionId": 30635,
      "isInternetEnabled": false,
      "language": "python",
      "sourceType": "notebook",
      "isGpuEnabled": true
    },
    "colab": {
      "provenance": [],
      "gpuType": "V100"
    },
    "accelerator": "GPU"
  },
  "nbformat_minor": 0,
  "nbformat": 4,
  "cells": [
    {
      "cell_type": "code",
      "source": [
        "!pip install polars==0.20.4 #Colab uses the older version and it doesnt support some features\n",
        "import os\n",
        "from pathlib import Path\n",
        "\n",
        "import numpy as np\n",
        "import pandas as pd\n",
        "import polars as pl\n",
        "from typing import List\n",
        "import matplotlib.pyplot as plt\n",
        "\n",
        "from sklearn.model_selection import cross_val_score, cross_validate, train_test_split\n",
        "from sklearn.metrics import mean_absolute_error, r2_score\n",
        "from sklearn.compose import TransformedTargetRegressor\n",
        "from sklearn.ensemble import VotingRegressor\n",
        "from xgboost import XGBRegressor\n",
        "import lightgbm as lgb\n",
        "try:\n",
        "    import optuna\n",
        "except:\n",
        "    !pip install optuna\n",
        "    import optuna\n",
        "\n",
        "import warnings\n",
        "warnings.filterwarnings(\"ignore\")"
      ],
      "metadata": {
        "execution": {
          "iopub.status.busy": "2024-01-14T11:56:04.851672Z",
          "iopub.execute_input": "2024-01-14T11:56:04.852562Z",
          "iopub.status.idle": "2024-01-14T11:56:04.858348Z",
          "shell.execute_reply.started": "2024-01-14T11:56:04.852527Z",
          "shell.execute_reply": "2024-01-14T11:56:04.857466Z"
        },
        "trusted": true,
        "id": "jVoBk1W0FgmE",
        "colab": {
          "base_uri": "https://localhost:8080/"
        },
        "outputId": "ae493a24-25a1-4da0-e63c-13c21dd87b29"
      },
      "execution_count": 1,
      "outputs": [
        {
          "output_type": "stream",
          "name": "stdout",
          "text": [
            "Collecting polars==0.20.4\n",
            "  Downloading polars-0.20.4-cp38-abi3-manylinux_2_17_x86_64.manylinux2014_x86_64.whl (28.6 MB)\n",
            "\u001b[2K     \u001b[90m━━━━━━━━━━━━━━━━━━━━━━━━━━━━━━━━━━━━━━━━\u001b[0m \u001b[32m28.6/28.6 MB\u001b[0m \u001b[31m24.4 MB/s\u001b[0m eta \u001b[36m0:00:00\u001b[0m\n",
            "\u001b[?25hInstalling collected packages: polars\n",
            "  Attempting uninstall: polars\n",
            "    Found existing installation: polars 0.17.3\n",
            "    Uninstalling polars-0.17.3:\n",
            "      Successfully uninstalled polars-0.17.3\n",
            "Successfully installed polars-0.20.4\n",
            "Collecting optuna\n",
            "  Downloading optuna-3.5.0-py3-none-any.whl (413 kB)\n",
            "\u001b[2K     \u001b[90m━━━━━━━━━━━━━━━━━━━━━━━━━━━━━━━━━━━━━━━━\u001b[0m \u001b[32m413.4/413.4 kB\u001b[0m \u001b[31m2.7 MB/s\u001b[0m eta \u001b[36m0:00:00\u001b[0m\n",
            "\u001b[?25hCollecting alembic>=1.5.0 (from optuna)\n",
            "  Downloading alembic-1.13.1-py3-none-any.whl (233 kB)\n",
            "\u001b[2K     \u001b[90m━━━━━━━━━━━━━━━━━━━━━━━━━━━━━━━━━━━━━━━━\u001b[0m \u001b[32m233.4/233.4 kB\u001b[0m \u001b[31m23.1 MB/s\u001b[0m eta \u001b[36m0:00:00\u001b[0m\n",
            "\u001b[?25hCollecting colorlog (from optuna)\n",
            "  Downloading colorlog-6.8.0-py3-none-any.whl (11 kB)\n",
            "Requirement already satisfied: numpy in /usr/local/lib/python3.10/dist-packages (from optuna) (1.23.5)\n",
            "Requirement already satisfied: packaging>=20.0 in /usr/local/lib/python3.10/dist-packages (from optuna) (23.2)\n",
            "Requirement already satisfied: sqlalchemy>=1.3.0 in /usr/local/lib/python3.10/dist-packages (from optuna) (2.0.24)\n",
            "Requirement already satisfied: tqdm in /usr/local/lib/python3.10/dist-packages (from optuna) (4.66.1)\n",
            "Requirement already satisfied: PyYAML in /usr/local/lib/python3.10/dist-packages (from optuna) (6.0.1)\n",
            "Collecting Mako (from alembic>=1.5.0->optuna)\n",
            "  Downloading Mako-1.3.0-py3-none-any.whl (78 kB)\n",
            "\u001b[2K     \u001b[90m━━━━━━━━━━━━━━━━━━━━━━━━━━━━━━━━━━━━━━━━\u001b[0m \u001b[32m78.6/78.6 kB\u001b[0m \u001b[31m9.4 MB/s\u001b[0m eta \u001b[36m0:00:00\u001b[0m\n",
            "\u001b[?25hRequirement already satisfied: typing-extensions>=4 in /usr/local/lib/python3.10/dist-packages (from alembic>=1.5.0->optuna) (4.5.0)\n",
            "Requirement already satisfied: greenlet!=0.4.17 in /usr/local/lib/python3.10/dist-packages (from sqlalchemy>=1.3.0->optuna) (3.0.3)\n",
            "Requirement already satisfied: MarkupSafe>=0.9.2 in /usr/local/lib/python3.10/dist-packages (from Mako->alembic>=1.5.0->optuna) (2.1.3)\n",
            "Installing collected packages: Mako, colorlog, alembic, optuna\n",
            "Successfully installed Mako-1.3.0 alembic-1.13.1 colorlog-6.8.0 optuna-3.5.0\n"
          ]
        }
      ]
    },
    {
      "cell_type": "code",
      "source": [
        "from google.colab import drive\n",
        "drive.mount('/content/drive')"
      ],
      "metadata": {
        "colab": {
          "base_uri": "https://localhost:8080/"
        },
        "id": "Y2aQWBE8KfHD",
        "outputId": "1aab76f1-4151-40aa-ceec-20396490b3d6"
      },
      "execution_count": 2,
      "outputs": [
        {
          "output_type": "stream",
          "name": "stdout",
          "text": [
            "Mounted at /content/drive\n"
          ]
        }
      ]
    },
    {
      "cell_type": "code",
      "source": [
        "!mkdir ~/.kaggle\n",
        "!cp kaggle.json ~/.kaggle/\n",
        "!chmod 600 ~/.kaggle/kaggle.json\n",
        "\n",
        "!kaggle competitions download -c predict-energy-behavior-of-prosumers #Download the dataset\n",
        "!unzip predict-energy-behavior-of-prosumers #Unzip the dataset"
      ],
      "metadata": {
        "execution": {
          "iopub.status.busy": "2024-01-14T11:56:07.174654Z",
          "iopub.execute_input": "2024-01-14T11:56:07.175047Z",
          "iopub.status.idle": "2024-01-14T11:56:07.185100Z",
          "shell.execute_reply.started": "2024-01-14T11:56:07.175017Z",
          "shell.execute_reply": "2024-01-14T11:56:07.184208Z"
        },
        "trusted": true,
        "id": "TLRYAQJEFgmF",
        "colab": {
          "base_uri": "https://localhost:8080/"
        },
        "outputId": "afeefe48-e2bb-4a14-805c-b009bd921e88"
      },
      "execution_count": 3,
      "outputs": [
        {
          "output_type": "stream",
          "name": "stdout",
          "text": [
            "Downloading predict-energy-behavior-of-prosumers.zip to /content\n",
            " 96% 224M/233M [00:01<00:00, 171MB/s]\n",
            "100% 233M/233M [00:01<00:00, 141MB/s]\n",
            "Archive:  predict-energy-behavior-of-prosumers.zip\n",
            "  inflating: client.csv              \n",
            "  inflating: county_id_to_name_map.json  \n",
            "  inflating: electricity_prices.csv  \n",
            "  inflating: enefit/__init__.py      \n",
            "  inflating: enefit/competition.cpython-310-x86_64-linux-gnu.so  \n",
            "  inflating: example_test_files/client.csv  \n",
            "  inflating: example_test_files/electricity_prices.csv  \n",
            "  inflating: example_test_files/forecast_weather.csv  \n",
            "  inflating: example_test_files/gas_prices.csv  \n",
            "  inflating: example_test_files/historical_weather.csv  \n",
            "  inflating: example_test_files/revealed_targets.csv  \n",
            "  inflating: example_test_files/sample_submission.csv  \n",
            "  inflating: example_test_files/test.csv  \n",
            "  inflating: forecast_weather.csv    \n",
            "  inflating: gas_prices.csv          \n",
            "  inflating: historical_weather.csv  \n",
            "  inflating: public_timeseries_testing_util.py  \n",
            "  inflating: train.csv               \n",
            "  inflating: weather_station_to_county_mapping.csv  \n"
          ]
        }
      ]
    },
    {
      "cell_type": "code",
      "source": [
        "colab_path = Path(\"/content\")\n",
        "train = pl.read_csv(os.path.join(colab_path, \"train.csv\"), try_parse_dates = True)"
      ],
      "metadata": {
        "id": "8xsM44rpGNpe"
      },
      "execution_count": 4,
      "outputs": []
    },
    {
      "cell_type": "markdown",
      "source": [
        "**DATA ANALYSIS**"
      ],
      "metadata": {
        "id": "DrDnjlUMITvc"
      }
    },
    {
      "cell_type": "code",
      "source": [
        "pd_train = pd.read_csv(os.path.join(colab_path, \"train.csv\"))\n",
        "pd_train.head()"
      ],
      "metadata": {
        "colab": {
          "base_uri": "https://localhost:8080/",
          "height": 204
        },
        "id": "JvHDL6U3R8Ky",
        "outputId": "d34a5576-8062-4932-a909-ab4e10909f45"
      },
      "execution_count": 5,
      "outputs": [
        {
          "output_type": "execute_result",
          "data": {
            "text/plain": [
              "   county  is_business  product_type  target  is_consumption  \\\n",
              "0       0            0             1   0.713               0   \n",
              "1       0            0             1  96.590               1   \n",
              "2       0            0             2   0.000               0   \n",
              "3       0            0             2  17.314               1   \n",
              "4       0            0             3   2.904               0   \n",
              "\n",
              "              datetime  data_block_id  row_id  prediction_unit_id  \n",
              "0  2021-09-01 00:00:00              0       0                   0  \n",
              "1  2021-09-01 00:00:00              0       1                   0  \n",
              "2  2021-09-01 00:00:00              0       2                   1  \n",
              "3  2021-09-01 00:00:00              0       3                   1  \n",
              "4  2021-09-01 00:00:00              0       4                   2  "
            ],
            "text/html": [
              "\n",
              "  <div id=\"df-42656041-b46b-4ab6-aa10-d62c0b146c91\" class=\"colab-df-container\">\n",
              "    <div>\n",
              "<style scoped>\n",
              "    .dataframe tbody tr th:only-of-type {\n",
              "        vertical-align: middle;\n",
              "    }\n",
              "\n",
              "    .dataframe tbody tr th {\n",
              "        vertical-align: top;\n",
              "    }\n",
              "\n",
              "    .dataframe thead th {\n",
              "        text-align: right;\n",
              "    }\n",
              "</style>\n",
              "<table border=\"1\" class=\"dataframe\">\n",
              "  <thead>\n",
              "    <tr style=\"text-align: right;\">\n",
              "      <th></th>\n",
              "      <th>county</th>\n",
              "      <th>is_business</th>\n",
              "      <th>product_type</th>\n",
              "      <th>target</th>\n",
              "      <th>is_consumption</th>\n",
              "      <th>datetime</th>\n",
              "      <th>data_block_id</th>\n",
              "      <th>row_id</th>\n",
              "      <th>prediction_unit_id</th>\n",
              "    </tr>\n",
              "  </thead>\n",
              "  <tbody>\n",
              "    <tr>\n",
              "      <th>0</th>\n",
              "      <td>0</td>\n",
              "      <td>0</td>\n",
              "      <td>1</td>\n",
              "      <td>0.713</td>\n",
              "      <td>0</td>\n",
              "      <td>2021-09-01 00:00:00</td>\n",
              "      <td>0</td>\n",
              "      <td>0</td>\n",
              "      <td>0</td>\n",
              "    </tr>\n",
              "    <tr>\n",
              "      <th>1</th>\n",
              "      <td>0</td>\n",
              "      <td>0</td>\n",
              "      <td>1</td>\n",
              "      <td>96.590</td>\n",
              "      <td>1</td>\n",
              "      <td>2021-09-01 00:00:00</td>\n",
              "      <td>0</td>\n",
              "      <td>1</td>\n",
              "      <td>0</td>\n",
              "    </tr>\n",
              "    <tr>\n",
              "      <th>2</th>\n",
              "      <td>0</td>\n",
              "      <td>0</td>\n",
              "      <td>2</td>\n",
              "      <td>0.000</td>\n",
              "      <td>0</td>\n",
              "      <td>2021-09-01 00:00:00</td>\n",
              "      <td>0</td>\n",
              "      <td>2</td>\n",
              "      <td>1</td>\n",
              "    </tr>\n",
              "    <tr>\n",
              "      <th>3</th>\n",
              "      <td>0</td>\n",
              "      <td>0</td>\n",
              "      <td>2</td>\n",
              "      <td>17.314</td>\n",
              "      <td>1</td>\n",
              "      <td>2021-09-01 00:00:00</td>\n",
              "      <td>0</td>\n",
              "      <td>3</td>\n",
              "      <td>1</td>\n",
              "    </tr>\n",
              "    <tr>\n",
              "      <th>4</th>\n",
              "      <td>0</td>\n",
              "      <td>0</td>\n",
              "      <td>3</td>\n",
              "      <td>2.904</td>\n",
              "      <td>0</td>\n",
              "      <td>2021-09-01 00:00:00</td>\n",
              "      <td>0</td>\n",
              "      <td>4</td>\n",
              "      <td>2</td>\n",
              "    </tr>\n",
              "  </tbody>\n",
              "</table>\n",
              "</div>\n",
              "    <div class=\"colab-df-buttons\">\n",
              "\n",
              "  <div class=\"colab-df-container\">\n",
              "    <button class=\"colab-df-convert\" onclick=\"convertToInteractive('df-42656041-b46b-4ab6-aa10-d62c0b146c91')\"\n",
              "            title=\"Convert this dataframe to an interactive table.\"\n",
              "            style=\"display:none;\">\n",
              "\n",
              "  <svg xmlns=\"http://www.w3.org/2000/svg\" height=\"24px\" viewBox=\"0 -960 960 960\">\n",
              "    <path d=\"M120-120v-720h720v720H120Zm60-500h600v-160H180v160Zm220 220h160v-160H400v160Zm0 220h160v-160H400v160ZM180-400h160v-160H180v160Zm440 0h160v-160H620v160ZM180-180h160v-160H180v160Zm440 0h160v-160H620v160Z\"/>\n",
              "  </svg>\n",
              "    </button>\n",
              "\n",
              "  <style>\n",
              "    .colab-df-container {\n",
              "      display:flex;\n",
              "      gap: 12px;\n",
              "    }\n",
              "\n",
              "    .colab-df-convert {\n",
              "      background-color: #E8F0FE;\n",
              "      border: none;\n",
              "      border-radius: 50%;\n",
              "      cursor: pointer;\n",
              "      display: none;\n",
              "      fill: #1967D2;\n",
              "      height: 32px;\n",
              "      padding: 0 0 0 0;\n",
              "      width: 32px;\n",
              "    }\n",
              "\n",
              "    .colab-df-convert:hover {\n",
              "      background-color: #E2EBFA;\n",
              "      box-shadow: 0px 1px 2px rgba(60, 64, 67, 0.3), 0px 1px 3px 1px rgba(60, 64, 67, 0.15);\n",
              "      fill: #174EA6;\n",
              "    }\n",
              "\n",
              "    .colab-df-buttons div {\n",
              "      margin-bottom: 4px;\n",
              "    }\n",
              "\n",
              "    [theme=dark] .colab-df-convert {\n",
              "      background-color: #3B4455;\n",
              "      fill: #D2E3FC;\n",
              "    }\n",
              "\n",
              "    [theme=dark] .colab-df-convert:hover {\n",
              "      background-color: #434B5C;\n",
              "      box-shadow: 0px 1px 3px 1px rgba(0, 0, 0, 0.15);\n",
              "      filter: drop-shadow(0px 1px 2px rgba(0, 0, 0, 0.3));\n",
              "      fill: #FFFFFF;\n",
              "    }\n",
              "  </style>\n",
              "\n",
              "    <script>\n",
              "      const buttonEl =\n",
              "        document.querySelector('#df-42656041-b46b-4ab6-aa10-d62c0b146c91 button.colab-df-convert');\n",
              "      buttonEl.style.display =\n",
              "        google.colab.kernel.accessAllowed ? 'block' : 'none';\n",
              "\n",
              "      async function convertToInteractive(key) {\n",
              "        const element = document.querySelector('#df-42656041-b46b-4ab6-aa10-d62c0b146c91');\n",
              "        const dataTable =\n",
              "          await google.colab.kernel.invokeFunction('convertToInteractive',\n",
              "                                                    [key], {});\n",
              "        if (!dataTable) return;\n",
              "\n",
              "        const docLinkHtml = 'Like what you see? Visit the ' +\n",
              "          '<a target=\"_blank\" href=https://colab.research.google.com/notebooks/data_table.ipynb>data table notebook</a>'\n",
              "          + ' to learn more about interactive tables.';\n",
              "        element.innerHTML = '';\n",
              "        dataTable['output_type'] = 'display_data';\n",
              "        await google.colab.output.renderOutput(dataTable, element);\n",
              "        const docLink = document.createElement('div');\n",
              "        docLink.innerHTML = docLinkHtml;\n",
              "        element.appendChild(docLink);\n",
              "      }\n",
              "    </script>\n",
              "  </div>\n",
              "\n",
              "\n",
              "<div id=\"df-97500bff-526a-49c4-8f43-05f43eb1bacd\">\n",
              "  <button class=\"colab-df-quickchart\" onclick=\"quickchart('df-97500bff-526a-49c4-8f43-05f43eb1bacd')\"\n",
              "            title=\"Suggest charts\"\n",
              "            style=\"display:none;\">\n",
              "\n",
              "<svg xmlns=\"http://www.w3.org/2000/svg\" height=\"24px\"viewBox=\"0 0 24 24\"\n",
              "     width=\"24px\">\n",
              "    <g>\n",
              "        <path d=\"M19 3H5c-1.1 0-2 .9-2 2v14c0 1.1.9 2 2 2h14c1.1 0 2-.9 2-2V5c0-1.1-.9-2-2-2zM9 17H7v-7h2v7zm4 0h-2V7h2v10zm4 0h-2v-4h2v4z\"/>\n",
              "    </g>\n",
              "</svg>\n",
              "  </button>\n",
              "\n",
              "<style>\n",
              "  .colab-df-quickchart {\n",
              "      --bg-color: #E8F0FE;\n",
              "      --fill-color: #1967D2;\n",
              "      --hover-bg-color: #E2EBFA;\n",
              "      --hover-fill-color: #174EA6;\n",
              "      --disabled-fill-color: #AAA;\n",
              "      --disabled-bg-color: #DDD;\n",
              "  }\n",
              "\n",
              "  [theme=dark] .colab-df-quickchart {\n",
              "      --bg-color: #3B4455;\n",
              "      --fill-color: #D2E3FC;\n",
              "      --hover-bg-color: #434B5C;\n",
              "      --hover-fill-color: #FFFFFF;\n",
              "      --disabled-bg-color: #3B4455;\n",
              "      --disabled-fill-color: #666;\n",
              "  }\n",
              "\n",
              "  .colab-df-quickchart {\n",
              "    background-color: var(--bg-color);\n",
              "    border: none;\n",
              "    border-radius: 50%;\n",
              "    cursor: pointer;\n",
              "    display: none;\n",
              "    fill: var(--fill-color);\n",
              "    height: 32px;\n",
              "    padding: 0;\n",
              "    width: 32px;\n",
              "  }\n",
              "\n",
              "  .colab-df-quickchart:hover {\n",
              "    background-color: var(--hover-bg-color);\n",
              "    box-shadow: 0 1px 2px rgba(60, 64, 67, 0.3), 0 1px 3px 1px rgba(60, 64, 67, 0.15);\n",
              "    fill: var(--button-hover-fill-color);\n",
              "  }\n",
              "\n",
              "  .colab-df-quickchart-complete:disabled,\n",
              "  .colab-df-quickchart-complete:disabled:hover {\n",
              "    background-color: var(--disabled-bg-color);\n",
              "    fill: var(--disabled-fill-color);\n",
              "    box-shadow: none;\n",
              "  }\n",
              "\n",
              "  .colab-df-spinner {\n",
              "    border: 2px solid var(--fill-color);\n",
              "    border-color: transparent;\n",
              "    border-bottom-color: var(--fill-color);\n",
              "    animation:\n",
              "      spin 1s steps(1) infinite;\n",
              "  }\n",
              "\n",
              "  @keyframes spin {\n",
              "    0% {\n",
              "      border-color: transparent;\n",
              "      border-bottom-color: var(--fill-color);\n",
              "      border-left-color: var(--fill-color);\n",
              "    }\n",
              "    20% {\n",
              "      border-color: transparent;\n",
              "      border-left-color: var(--fill-color);\n",
              "      border-top-color: var(--fill-color);\n",
              "    }\n",
              "    30% {\n",
              "      border-color: transparent;\n",
              "      border-left-color: var(--fill-color);\n",
              "      border-top-color: var(--fill-color);\n",
              "      border-right-color: var(--fill-color);\n",
              "    }\n",
              "    40% {\n",
              "      border-color: transparent;\n",
              "      border-right-color: var(--fill-color);\n",
              "      border-top-color: var(--fill-color);\n",
              "    }\n",
              "    60% {\n",
              "      border-color: transparent;\n",
              "      border-right-color: var(--fill-color);\n",
              "    }\n",
              "    80% {\n",
              "      border-color: transparent;\n",
              "      border-right-color: var(--fill-color);\n",
              "      border-bottom-color: var(--fill-color);\n",
              "    }\n",
              "    90% {\n",
              "      border-color: transparent;\n",
              "      border-bottom-color: var(--fill-color);\n",
              "    }\n",
              "  }\n",
              "</style>\n",
              "\n",
              "  <script>\n",
              "    async function quickchart(key) {\n",
              "      const quickchartButtonEl =\n",
              "        document.querySelector('#' + key + ' button');\n",
              "      quickchartButtonEl.disabled = true;  // To prevent multiple clicks.\n",
              "      quickchartButtonEl.classList.add('colab-df-spinner');\n",
              "      try {\n",
              "        const charts = await google.colab.kernel.invokeFunction(\n",
              "            'suggestCharts', [key], {});\n",
              "      } catch (error) {\n",
              "        console.error('Error during call to suggestCharts:', error);\n",
              "      }\n",
              "      quickchartButtonEl.classList.remove('colab-df-spinner');\n",
              "      quickchartButtonEl.classList.add('colab-df-quickchart-complete');\n",
              "    }\n",
              "    (() => {\n",
              "      let quickchartButtonEl =\n",
              "        document.querySelector('#df-97500bff-526a-49c4-8f43-05f43eb1bacd button');\n",
              "      quickchartButtonEl.style.display =\n",
              "        google.colab.kernel.accessAllowed ? 'block' : 'none';\n",
              "    })();\n",
              "  </script>\n",
              "</div>\n",
              "\n",
              "    </div>\n",
              "  </div>\n"
            ]
          },
          "metadata": {},
          "execution_count": 5
        }
      ]
    },
    {
      "cell_type": "code",
      "source": [
        "pd_train.columns"
      ],
      "metadata": {
        "colab": {
          "base_uri": "https://localhost:8080/"
        },
        "id": "f6KlSPjg6exB",
        "outputId": "ab582e92-6149-43e6-e1f8-a08e11e1657b"
      },
      "execution_count": 6,
      "outputs": [
        {
          "output_type": "execute_result",
          "data": {
            "text/plain": [
              "Index(['county', 'is_business', 'product_type', 'target', 'is_consumption',\n",
              "       'datetime', 'data_block_id', 'row_id', 'prediction_unit_id'],\n",
              "      dtype='object')"
            ]
          },
          "metadata": {},
          "execution_count": 6
        }
      ]
    },
    {
      "cell_type": "code",
      "source": [
        "import seaborn as sns\n",
        "plt.figure(figsize = (10, 6))\n",
        "\n",
        "for feature in pd_train.columns:\n",
        "    sns.barplot(data = pd_train[:10], x = feature, y = \"target\")\n",
        "    plt.show()"
      ],
      "metadata": {
        "id": "HcQVlgEhQo0W"
      },
      "execution_count": null,
      "outputs": []
    },
    {
      "cell_type": "markdown",
      "source": [
        "**FEATURE ENGINEERING**"
      ],
      "metadata": {
        "id": "2VZiG0wJQmMp"
      }
    },
    {
      "cell_type": "code",
      "source": [
        "def feature_engineering(df_data, df_client, df_forecast, df_historical, df_location, df_target):\n",
        "    df_data = df_data.with_columns(pl.col(\"datetime\").cast(pl.Date).alias(\"date\"))\n",
        "    df_client = df_client.with_columns(\n",
        "        (pl.col(\"date\") + pl.duration(days = 2)).cast(pl.Date)\n",
        "    )\n",
        "    df_location = df_location.with_columns(\n",
        "        pl.col(\"latitude\").cast(pl.datatypes.Float32),\n",
        "        pl.col(\"longitude\").cast(pl.datatypes.Float32))\n",
        "    df_forecast = df_forecast.rename({\"forecast_datetime\": \"datetime\"}).with_columns(\n",
        "        pl.col(\"latitude\").cast(pl.datatypes.Float32),\n",
        "        pl.col(\"longitude\").cast(pl.datatypes.Float32)\n",
        "    ).join(df_location, how = \"left\", on = [\"longitude\", \"latitude\"]).drop(\"longitude\", \"latitude\")\n",
        "    df_historical = df_historical.with_columns(\n",
        "        pl.col(\"latitude\").cast(pl.datatypes.Float32),\n",
        "        pl.col(\"longitude\").cast(pl.datatypes.Float32,),\n",
        "        pl.col(\"datetime\") + pl.duration(hours = 37)\n",
        "    ).join(df_location, how = \"left\", on = [\"longitude\", \"latitude\"]).drop(\"longitude\", \"latitude\")\n",
        "    df_forecast_date = df_forecast.group_by(\"datetime\").mean().drop(\"county\")\n",
        "    df_forecast_local = df_forecast.filter(pl.col(\"county\").is_not_null()).group_by(\"county\", \"datetime\").mean()\n",
        "    df_historical_date = df_historical.group_by(\"datetime\").mean().drop(\"county\")\n",
        "    df_historical_local = df_historical.filter(pl.col(\"county\").is_not_null()).group_by(\"county\", \"datetime\").mean()\n",
        "\n",
        "    df_data = (df_data\n",
        "        .join(df_client, on = [\"county\", \"is_business\", \"product_type\", \"date\"], how = \"left\")\n",
        "        .join(df_forecast_date, on = \"datetime\", how = \"left\", suffix = \"_fd\")\n",
        "        .join(df_forecast_local, on = [\"county\", \"datetime\"], how = \"left\", suffix = \"_fl\")\n",
        "        .join(df_historical_date, on = \"datetime\", how = \"left\", suffix = \"_hd\")\n",
        "        .join(df_historical_local, on = [\"county\", \"datetime\"], how = \"left\", suffix = \"_hl\")\n",
        "        .join(df_forecast_date.with_columns(pl.col(\"datetime\") + pl.duration(days=7)), on = \"datetime\", how = \"left\", suffix = \"_fdw\")\n",
        "        .join(df_forecast_local.with_columns(pl.col(\"datetime\") + pl.duration(days=7)), on = [\"county\", \"datetime\"], how = \"left\", suffix = \"_flw\")\n",
        "        .join(df_historical_date.with_columns(pl.col(\"datetime\") + pl.duration(days=7)), on = \"datetime\", how = \"left\", suffix = \"_hdw\")\n",
        "        .join(df_historical_local.with_columns(pl.col(\"datetime\") + pl.duration(days=7)), on = [\"county\", \"datetime\"], how = \"left\", suffix = \"_hlw\")\n",
        "        .join(df_target.with_columns(pl.col(\"datetime\") + pl.duration(days=2)).rename({\"target\": \"target_1\"}), on = [\"county\", \"is_business\", \"product_type\", \"is_consumption\", \"datetime\"], how = \"left\")\n",
        "        .join(df_target.with_columns(pl.col(\"datetime\") + pl.duration(days=3)).rename({\"target\": \"target_2\"}), on = [\"county\", \"is_business\", \"product_type\", \"is_consumption\", \"datetime\"], how = \"left\")\n",
        "        .join(df_target.with_columns(pl.col(\"datetime\") + pl.duration(days=4)).rename({\"target\": \"target_3\"}), on = [\"county\", \"is_business\", \"product_type\", \"is_consumption\", \"datetime\"], how = \"left\")\n",
        "        .join(df_target.with_columns(pl.col(\"datetime\") + pl.duration(days=5)).rename({\"target\": \"target_4\"}), on = [\"county\", \"is_business\", \"product_type\", \"is_consumption\", \"datetime\"], how = \"left\")\n",
        "        .join(df_target.with_columns(pl.col(\"datetime\") + pl.duration(days=6)).rename({\"target\": \"target_5\"}), on = [\"county\", \"is_business\", \"product_type\", \"is_consumption\", \"datetime\"], how = \"left\")\n",
        "        .join(df_target.with_columns(pl.col(\"datetime\") + pl.duration(days=7)).rename({\"target\": \"target_6\"}), on = [\"county\", \"is_business\", \"product_type\", \"is_consumption\", \"datetime\"], how = \"left\")\n",
        "        .join(df_target.with_columns(pl.col(\"datetime\") + pl.duration(days=14)).rename({\"target\": \"target_7\"}), on = [\"county\", \"is_business\", \"product_type\", \"is_consumption\", \"datetime\"], how = \"left\")\n",
        "        .with_columns(\n",
        "            pl.col(\"datetime\").dt.ordinal_day().alias(\"dayofyear\"),\n",
        "            pl.col(\"datetime\").dt.hour().alias(\"hour\"),\n",
        "            pl.col(\"datetime\").dt.day().alias(\"day\"),\n",
        "            pl.col(\"datetime\").dt.weekday().alias(\"weekday\"),\n",
        "            pl.col(\"datetime\").dt.month().alias(\"month\"),\n",
        "            pl.col(\"datetime\").dt.year().alias(\"year\")\n",
        "        )\n",
        "        .with_columns(\n",
        "            pl.concat_str(\"county\", \"is_business\", \"product_type\", \"is_consumption\", separator = \"_\").alias(\"category_1\"),\n",
        "        )\n",
        "        .with_columns(\n",
        "            (np.pi * pl.col(\"dayofyear\") / 183).sin().alias(\"sin(dayofyear)\"),\n",
        "            (np.pi * pl.col(\"dayofyear\") / 183).cos().alias(\"cos(dayofyear)\"),\n",
        "            (np.pi * pl.col(\"hour\") / 12).sin().alias(\"sin(hour)\"),\n",
        "            (np.pi * pl.col(\"hour\") / 12).cos().alias(\"cos(hour)\")\n",
        "        )\n",
        "        .with_columns(\n",
        "            pl.col(pl.Float64).cast(pl.Float32),\n",
        "        )\n",
        "        .drop(\"date\", \"datetime\", \"hour\", \"dayofyear\")\n",
        "    )\n",
        "\n",
        "    return df_data"
      ],
      "metadata": {
        "execution": {
          "iopub.status.busy": "2024-01-14T11:56:08.101608Z",
          "iopub.execute_input": "2024-01-14T11:56:08.102484Z",
          "iopub.status.idle": "2024-01-14T11:56:08.142735Z",
          "shell.execute_reply.started": "2024-01-14T11:56:08.102450Z",
          "shell.execute_reply": "2024-01-14T11:56:08.141562Z"
        },
        "trusted": true,
        "id": "UPEeSxQ_FgmG"
      },
      "execution_count": 8,
      "outputs": []
    },
    {
      "cell_type": "code",
      "source": [
        "def to_pandas(x, y = None):\n",
        "    COL_S = [\"county\", \"is_business\", \"product_type\", \"is_consumption\", \"category_1\"]\n",
        "\n",
        "    if y is not None:\n",
        "        df = pd.concat([x.to_pandas(), y.to_pandas()], axis = 1)\n",
        "    else:\n",
        "        df = x.to_pandas()\n",
        "\n",
        "    df = df.set_index(\"row_id\") #Set the column \"row_id\" as the index/row of the dataframe\n",
        "    df[COL_S] = df[COL_S].astype(\"category\") #Change the COL_S type to \"category\"\n",
        "\n",
        "    df[\"target_mean\"] = df[[f\"target_{i}\" for i in range(1, 7)]].mean(1)\n",
        "    df[\"target_std\"] = df[[f\"target_{i}\" for i in range(1, 7)]].std(1)\n",
        "    df[\"target_ratio\"] = df[\"target_6\"] / (df[\"target_7\"] + 1e-3)\n",
        "\n",
        "    return df"
      ],
      "metadata": {
        "execution": {
          "iopub.status.busy": "2024-01-14T11:56:09.964710Z",
          "iopub.execute_input": "2024-01-14T11:56:09.965123Z",
          "iopub.status.idle": "2024-01-14T11:56:09.972637Z",
          "shell.execute_reply.started": "2024-01-14T11:56:09.965092Z",
          "shell.execute_reply": "2024-01-14T11:56:09.971775Z"
        },
        "trusted": true,
        "id": "3w76tZfHFgmH"
      },
      "execution_count": 31,
      "outputs": []
    },
    {
      "cell_type": "code",
      "source": [
        "def objective(trial):\n",
        "    #Use ml_model = trial.suggest_categorical(\"\") to try other ml methods\n",
        "    params = {\n",
        "        \"objective\": \"regression\",\n",
        "        \"learning_rate\": trial.suggest_float(\"learning_rate\", 0.01, 0.1),\n",
        "        \"lambda_l1\": trial.suggest_float(\"lambda_l1\", 1e-2, 10.0),\n",
        "        \"min_data_in_leaf\": trial.suggest_int(\"min_data_in_leaf\", 4, 256),\n",
        "        \"max_depth\": trial.suggest_int(\"max_depth\", 5, 10),\n",
        "        \"max_bin\": trial.suggest_int(\"max_bin\", 32, 1024)\n",
        "    }\n",
        "\n",
        "    model = lgb.LGBMRegressor(**params)\n",
        "\n",
        "    model.fit(x_train, y_train)\n",
        "    y_pred = model.predict(x_test)\n",
        "\n",
        "    error = mean_absolute_error(y_pred, y_test)\n",
        "    return error"
      ],
      "metadata": {
        "execution": {
          "iopub.status.busy": "2024-01-14T11:56:34.716842Z",
          "iopub.execute_input": "2024-01-14T11:56:34.717486Z",
          "iopub.status.idle": "2024-01-14T11:56:34.724178Z",
          "shell.execute_reply.started": "2024-01-14T11:56:34.717453Z",
          "shell.execute_reply": "2024-01-14T11:56:34.723134Z"
        },
        "trusted": true,
        "id": "Du_lR3MJFgmH"
      },
      "execution_count": 10,
      "outputs": []
    },
    {
      "cell_type": "code",
      "source": [
        "data_cols = ['target', 'county', 'is_business', 'product_type', 'is_consumption', 'datetime', 'row_id']\n",
        "client_cols = ['product_type', 'county', 'eic_count', 'installed_capacity', 'is_business', 'date']\n",
        "forecast_cols = ['latitude', 'longitude', 'hours_ahead', 'temperature', 'dewpoint', 'cloudcover_high', 'cloudcover_low', 'cloudcover_mid', 'cloudcover_total', '10_metre_u_wind_component', '10_metre_v_wind_component', 'forecast_datetime', 'direct_solar_radiation', 'surface_solar_radiation_downwards', 'snowfall', 'total_precipitation']\n",
        "historical_cols = ['datetime', 'temperature', 'dewpoint', 'rain', 'snowfall', 'surface_pressure','cloudcover_total','cloudcover_low','cloudcover_mid','cloudcover_high','windspeed_10m','winddirection_10m','shortwave_radiation','direct_solar_radiation','diffuse_radiation','latitude','longitude']\n",
        "location_cols = ['longitude', 'latitude', 'county']\n",
        "target_cols = ['target', 'county', 'is_business', 'product_type', 'is_consumption', 'datetime']"
      ],
      "metadata": {
        "execution": {
          "iopub.status.busy": "2024-01-14T11:56:35.643516Z",
          "iopub.execute_input": "2024-01-14T11:56:35.643888Z",
          "iopub.status.idle": "2024-01-14T11:56:35.651326Z",
          "shell.execute_reply.started": "2024-01-14T11:56:35.643860Z",
          "shell.execute_reply": "2024-01-14T11:56:35.650311Z"
        },
        "trusted": true,
        "id": "QcAK5EBBFgmI"
      },
      "execution_count": 11,
      "outputs": []
    },
    {
      "cell_type": "code",
      "source": [
        "df_data = pl.read_csv(os.path.join(colab_path, \"train.csv\"), columns = data_cols, try_parse_dates = True)\n",
        "df_client = pl.read_csv(os.path.join(colab_path, \"client.csv\"), columns = client_cols, try_parse_dates = True)\n",
        "df_forecast = pl.read_csv(os.path.join(colab_path, \"forecast_weather.csv\"), columns = forecast_cols, try_parse_dates = True)\n",
        "df_historical = pl.read_csv(os.path.join(colab_path, \"historical_weather.csv\"), columns = historical_cols, try_parse_dates = True)\n",
        "df_location = pl.read_csv(os.path.join(colab_path, \"weather_station_to_county_mapping.csv\"), columns = location_cols, try_parse_dates = True)\n",
        "df_target = df_data.select(target_cols)"
      ],
      "metadata": {
        "execution": {
          "iopub.status.busy": "2024-01-14T11:56:40.100689Z",
          "iopub.execute_input": "2024-01-14T11:56:40.101534Z",
          "iopub.status.idle": "2024-01-14T11:56:45.778765Z",
          "shell.execute_reply.started": "2024-01-14T11:56:40.101501Z",
          "shell.execute_reply": "2024-01-14T11:56:45.777896Z"
        },
        "trusted": true,
        "id": "bdufPyOyFgmI"
      },
      "execution_count": 12,
      "outputs": []
    },
    {
      "cell_type": "code",
      "source": [
        "x, y = df_data.drop(\"target\"), df_data.select(\"target\")\n",
        "x = feature_engineering(x, df_client, df_forecast, df_historical, df_location, df_target)"
      ],
      "metadata": {
        "execution": {
          "iopub.status.busy": "2024-01-13T17:25:03.160738Z",
          "iopub.execute_input": "2024-01-13T17:25:03.161083Z",
          "iopub.status.idle": "2024-01-13T17:25:14.762507Z",
          "shell.execute_reply.started": "2024-01-13T17:25:03.161055Z",
          "shell.execute_reply": "2024-01-13T17:25:14.761548Z"
        },
        "trusted": true,
        "id": "Jbk5aNkVFgmJ"
      },
      "execution_count": 20,
      "outputs": []
    },
    {
      "cell_type": "code",
      "source": [
        "df_train = to_pandas(x, y)"
      ],
      "metadata": {
        "id": "Mv_M2SdrFyIV"
      },
      "execution_count": 32,
      "outputs": []
    },
    {
      "cell_type": "code",
      "source": [
        "df_train = df_train[df_train[\"target\"].notnull() & df_train[\"year\"].gt(2021)]"
      ],
      "metadata": {
        "execution": {
          "iopub.status.busy": "2024-01-13T17:25:14.764090Z",
          "iopub.execute_input": "2024-01-13T17:25:14.764368Z",
          "iopub.status.idle": "2024-01-13T17:25:15.198205Z",
          "shell.execute_reply.started": "2024-01-13T17:25:14.764344Z",
          "shell.execute_reply": "2024-01-13T17:25:15.197205Z"
        },
        "trusted": true,
        "id": "0_cOqDG3FgmJ"
      },
      "execution_count": 33,
      "outputs": []
    },
    {
      "cell_type": "code",
      "source": [
        "x_train, x_test, y_train, y_test = train_test_split(df_train.drop(\"target\", axis = 1), df_train[\"target\"], test_size = 0.4, shuffle = True)"
      ],
      "metadata": {
        "execution": {
          "iopub.status.busy": "2024-01-13T17:25:15.199431Z",
          "iopub.execute_input": "2024-01-13T17:25:15.199747Z",
          "iopub.status.idle": "2024-01-13T17:25:16.931334Z",
          "shell.execute_reply.started": "2024-01-13T17:25:15.199721Z",
          "shell.execute_reply": "2024-01-13T17:25:16.930276Z"
        },
        "trusted": true,
        "id": "zr5OK-iuFgmK"
      },
      "execution_count": 34,
      "outputs": []
    },
    {
      "cell_type": "code",
      "source": [
        "study = optuna.create_study()\n",
        "optimized_study = study.optimize(objective, n_trials = 50, show_progress_bar = True)"
      ],
      "metadata": {
        "execution": {
          "iopub.status.busy": "2024-01-13T17:25:19.820876Z",
          "iopub.execute_input": "2024-01-13T17:25:19.821233Z",
          "iopub.status.idle": "2024-01-13T17:25:19.827002Z",
          "shell.execute_reply.started": "2024-01-13T17:25:19.821206Z",
          "shell.execute_reply": "2024-01-13T17:25:19.826187Z"
        },
        "trusted": true,
        "id": "R4A9lnl_FgmK"
      },
      "execution_count": 17,
      "outputs": []
    },
    {
      "cell_type": "code",
      "source": [
        "best_params_lgb_d = {\n",
        "    'learning_rate': 0.05689066836106983,\n",
        "    'lambda_l1': 3.6277555139102864,\n",
        "    'lambda_l2': 1.6591278779517808,\n",
        "    'min_data_in_leaf': 186,\n",
        "    'max_depth': 9,\n",
        "    'max_bin': 813,\n",
        "}"
      ],
      "metadata": {
        "execution": {
          "iopub.status.busy": "2024-01-13T17:25:25.795411Z",
          "iopub.execute_input": "2024-01-13T17:25:25.795806Z",
          "iopub.status.idle": "2024-01-13T17:25:25.800717Z",
          "shell.execute_reply.started": "2024-01-13T17:25:25.795776Z",
          "shell.execute_reply": "2024-01-13T17:25:25.799845Z"
        },
        "trusted": true,
        "id": "bBsYWZa7FgmK"
      },
      "execution_count": 25,
      "outputs": []
    },
    {
      "cell_type": "code",
      "source": [
        "from joblib import dump, load\n",
        "voting_reg = load(\"/content/drive/MyDrive/SavedModels/voting_regressor_xgb.joblib\")"
      ],
      "metadata": {
        "id": "tfkHL_E3G-6u"
      },
      "execution_count": 35,
      "outputs": []
    },
    {
      "cell_type": "code",
      "source": [
        "x_test.head()"
      ],
      "metadata": {
        "colab": {
          "base_uri": "https://localhost:8080/",
          "height": 369
        },
        "id": "dlTPG7EKHWU_",
        "outputId": "8801dbce-5715-48e8-9d07-9cb109239018"
      },
      "execution_count": 30,
      "outputs": [
        {
          "output_type": "execute_result",
          "data": {
            "text/plain": [
              "        county is_business product_type is_consumption  eic_count  \\\n",
              "row_id                                                              \n",
              "1343787     11           1            2              1        7.0   \n",
              "1022405      3           0            1              1       30.0   \n",
              "568506      11           1            3              0      119.0   \n",
              "1363506     10           1            2              0        5.0   \n",
              "1031180     11           0            2              0        7.0   \n",
              "\n",
              "         installed_capacity  hours_ahead  temperature   dewpoint  \\\n",
              "row_id                                                             \n",
              "1343787          119.000000         24.0     8.739361   6.791767   \n",
              "1022405          311.000000         24.0    21.654451  14.479589   \n",
              "568506          5794.899902         16.0    -1.336159  -2.924360   \n",
              "1363506           41.000000         23.0     9.244884   7.414896   \n",
              "1031180           14.500000         18.0    15.905991  12.133893   \n",
              "\n",
              "         cloudcover_high  ...   target_7  day  weekday  month  year  \\\n",
              "row_id                    ...                                         \n",
              "1343787         0.546306  ...  40.617001    2        3     11  2022   \n",
              "1022405         0.684719  ...   8.431000   25        1      7  2022   \n",
              "568506          0.380288  ...   0.003000    6        7      3  2022   \n",
              "1363506         0.009429  ...   0.129000    8        2     11  2022   \n",
              "1031180         0.411054  ...   0.440000   28        4      7  2022   \n",
              "\n",
              "         category_1  sin(dayofyear)  cos(dayofyear)     sin(hour)  cos(hour)  \n",
              "row_id                                                                        \n",
              "1343787    11_1_2_1       -0.857315        0.514793 -2.588190e-01  -0.965926  \n",
              "1022405     3_0_1_1       -0.384665       -0.923056 -5.000000e-01  -0.866025  \n",
              "568506     11_1_3_0        0.898292        0.439400  9.659258e-01   0.258819  \n",
              "1363506    10_1_2_0       -0.799839        0.600214  1.224647e-16  -1.000000  \n",
              "1031180    11_0_2_0       -0.431673       -0.902030  8.660254e-01  -0.500000  \n",
              "\n",
              "[5 rows x 130 columns]"
            ],
            "text/html": [
              "\n",
              "  <div id=\"df-cd4b0e13-4000-4880-94b3-77b7c1fbf44e\" class=\"colab-df-container\">\n",
              "    <div>\n",
              "<style scoped>\n",
              "    .dataframe tbody tr th:only-of-type {\n",
              "        vertical-align: middle;\n",
              "    }\n",
              "\n",
              "    .dataframe tbody tr th {\n",
              "        vertical-align: top;\n",
              "    }\n",
              "\n",
              "    .dataframe thead th {\n",
              "        text-align: right;\n",
              "    }\n",
              "</style>\n",
              "<table border=\"1\" class=\"dataframe\">\n",
              "  <thead>\n",
              "    <tr style=\"text-align: right;\">\n",
              "      <th></th>\n",
              "      <th>county</th>\n",
              "      <th>is_business</th>\n",
              "      <th>product_type</th>\n",
              "      <th>is_consumption</th>\n",
              "      <th>eic_count</th>\n",
              "      <th>installed_capacity</th>\n",
              "      <th>hours_ahead</th>\n",
              "      <th>temperature</th>\n",
              "      <th>dewpoint</th>\n",
              "      <th>cloudcover_high</th>\n",
              "      <th>...</th>\n",
              "      <th>target_7</th>\n",
              "      <th>day</th>\n",
              "      <th>weekday</th>\n",
              "      <th>month</th>\n",
              "      <th>year</th>\n",
              "      <th>category_1</th>\n",
              "      <th>sin(dayofyear)</th>\n",
              "      <th>cos(dayofyear)</th>\n",
              "      <th>sin(hour)</th>\n",
              "      <th>cos(hour)</th>\n",
              "    </tr>\n",
              "    <tr>\n",
              "      <th>row_id</th>\n",
              "      <th></th>\n",
              "      <th></th>\n",
              "      <th></th>\n",
              "      <th></th>\n",
              "      <th></th>\n",
              "      <th></th>\n",
              "      <th></th>\n",
              "      <th></th>\n",
              "      <th></th>\n",
              "      <th></th>\n",
              "      <th></th>\n",
              "      <th></th>\n",
              "      <th></th>\n",
              "      <th></th>\n",
              "      <th></th>\n",
              "      <th></th>\n",
              "      <th></th>\n",
              "      <th></th>\n",
              "      <th></th>\n",
              "      <th></th>\n",
              "      <th></th>\n",
              "    </tr>\n",
              "  </thead>\n",
              "  <tbody>\n",
              "    <tr>\n",
              "      <th>1343787</th>\n",
              "      <td>11</td>\n",
              "      <td>1</td>\n",
              "      <td>2</td>\n",
              "      <td>1</td>\n",
              "      <td>7.0</td>\n",
              "      <td>119.000000</td>\n",
              "      <td>24.0</td>\n",
              "      <td>8.739361</td>\n",
              "      <td>6.791767</td>\n",
              "      <td>0.546306</td>\n",
              "      <td>...</td>\n",
              "      <td>40.617001</td>\n",
              "      <td>2</td>\n",
              "      <td>3</td>\n",
              "      <td>11</td>\n",
              "      <td>2022</td>\n",
              "      <td>11_1_2_1</td>\n",
              "      <td>-0.857315</td>\n",
              "      <td>0.514793</td>\n",
              "      <td>-2.588190e-01</td>\n",
              "      <td>-0.965926</td>\n",
              "    </tr>\n",
              "    <tr>\n",
              "      <th>1022405</th>\n",
              "      <td>3</td>\n",
              "      <td>0</td>\n",
              "      <td>1</td>\n",
              "      <td>1</td>\n",
              "      <td>30.0</td>\n",
              "      <td>311.000000</td>\n",
              "      <td>24.0</td>\n",
              "      <td>21.654451</td>\n",
              "      <td>14.479589</td>\n",
              "      <td>0.684719</td>\n",
              "      <td>...</td>\n",
              "      <td>8.431000</td>\n",
              "      <td>25</td>\n",
              "      <td>1</td>\n",
              "      <td>7</td>\n",
              "      <td>2022</td>\n",
              "      <td>3_0_1_1</td>\n",
              "      <td>-0.384665</td>\n",
              "      <td>-0.923056</td>\n",
              "      <td>-5.000000e-01</td>\n",
              "      <td>-0.866025</td>\n",
              "    </tr>\n",
              "    <tr>\n",
              "      <th>568506</th>\n",
              "      <td>11</td>\n",
              "      <td>1</td>\n",
              "      <td>3</td>\n",
              "      <td>0</td>\n",
              "      <td>119.0</td>\n",
              "      <td>5794.899902</td>\n",
              "      <td>16.0</td>\n",
              "      <td>-1.336159</td>\n",
              "      <td>-2.924360</td>\n",
              "      <td>0.380288</td>\n",
              "      <td>...</td>\n",
              "      <td>0.003000</td>\n",
              "      <td>6</td>\n",
              "      <td>7</td>\n",
              "      <td>3</td>\n",
              "      <td>2022</td>\n",
              "      <td>11_1_3_0</td>\n",
              "      <td>0.898292</td>\n",
              "      <td>0.439400</td>\n",
              "      <td>9.659258e-01</td>\n",
              "      <td>0.258819</td>\n",
              "    </tr>\n",
              "    <tr>\n",
              "      <th>1363506</th>\n",
              "      <td>10</td>\n",
              "      <td>1</td>\n",
              "      <td>2</td>\n",
              "      <td>0</td>\n",
              "      <td>5.0</td>\n",
              "      <td>41.000000</td>\n",
              "      <td>23.0</td>\n",
              "      <td>9.244884</td>\n",
              "      <td>7.414896</td>\n",
              "      <td>0.009429</td>\n",
              "      <td>...</td>\n",
              "      <td>0.129000</td>\n",
              "      <td>8</td>\n",
              "      <td>2</td>\n",
              "      <td>11</td>\n",
              "      <td>2022</td>\n",
              "      <td>10_1_2_0</td>\n",
              "      <td>-0.799839</td>\n",
              "      <td>0.600214</td>\n",
              "      <td>1.224647e-16</td>\n",
              "      <td>-1.000000</td>\n",
              "    </tr>\n",
              "    <tr>\n",
              "      <th>1031180</th>\n",
              "      <td>11</td>\n",
              "      <td>0</td>\n",
              "      <td>2</td>\n",
              "      <td>0</td>\n",
              "      <td>7.0</td>\n",
              "      <td>14.500000</td>\n",
              "      <td>18.0</td>\n",
              "      <td>15.905991</td>\n",
              "      <td>12.133893</td>\n",
              "      <td>0.411054</td>\n",
              "      <td>...</td>\n",
              "      <td>0.440000</td>\n",
              "      <td>28</td>\n",
              "      <td>4</td>\n",
              "      <td>7</td>\n",
              "      <td>2022</td>\n",
              "      <td>11_0_2_0</td>\n",
              "      <td>-0.431673</td>\n",
              "      <td>-0.902030</td>\n",
              "      <td>8.660254e-01</td>\n",
              "      <td>-0.500000</td>\n",
              "    </tr>\n",
              "  </tbody>\n",
              "</table>\n",
              "<p>5 rows × 130 columns</p>\n",
              "</div>\n",
              "    <div class=\"colab-df-buttons\">\n",
              "\n",
              "  <div class=\"colab-df-container\">\n",
              "    <button class=\"colab-df-convert\" onclick=\"convertToInteractive('df-cd4b0e13-4000-4880-94b3-77b7c1fbf44e')\"\n",
              "            title=\"Convert this dataframe to an interactive table.\"\n",
              "            style=\"display:none;\">\n",
              "\n",
              "  <svg xmlns=\"http://www.w3.org/2000/svg\" height=\"24px\" viewBox=\"0 -960 960 960\">\n",
              "    <path d=\"M120-120v-720h720v720H120Zm60-500h600v-160H180v160Zm220 220h160v-160H400v160Zm0 220h160v-160H400v160ZM180-400h160v-160H180v160Zm440 0h160v-160H620v160ZM180-180h160v-160H180v160Zm440 0h160v-160H620v160Z\"/>\n",
              "  </svg>\n",
              "    </button>\n",
              "\n",
              "  <style>\n",
              "    .colab-df-container {\n",
              "      display:flex;\n",
              "      gap: 12px;\n",
              "    }\n",
              "\n",
              "    .colab-df-convert {\n",
              "      background-color: #E8F0FE;\n",
              "      border: none;\n",
              "      border-radius: 50%;\n",
              "      cursor: pointer;\n",
              "      display: none;\n",
              "      fill: #1967D2;\n",
              "      height: 32px;\n",
              "      padding: 0 0 0 0;\n",
              "      width: 32px;\n",
              "    }\n",
              "\n",
              "    .colab-df-convert:hover {\n",
              "      background-color: #E2EBFA;\n",
              "      box-shadow: 0px 1px 2px rgba(60, 64, 67, 0.3), 0px 1px 3px 1px rgba(60, 64, 67, 0.15);\n",
              "      fill: #174EA6;\n",
              "    }\n",
              "\n",
              "    .colab-df-buttons div {\n",
              "      margin-bottom: 4px;\n",
              "    }\n",
              "\n",
              "    [theme=dark] .colab-df-convert {\n",
              "      background-color: #3B4455;\n",
              "      fill: #D2E3FC;\n",
              "    }\n",
              "\n",
              "    [theme=dark] .colab-df-convert:hover {\n",
              "      background-color: #434B5C;\n",
              "      box-shadow: 0px 1px 3px 1px rgba(0, 0, 0, 0.15);\n",
              "      filter: drop-shadow(0px 1px 2px rgba(0, 0, 0, 0.3));\n",
              "      fill: #FFFFFF;\n",
              "    }\n",
              "  </style>\n",
              "\n",
              "    <script>\n",
              "      const buttonEl =\n",
              "        document.querySelector('#df-cd4b0e13-4000-4880-94b3-77b7c1fbf44e button.colab-df-convert');\n",
              "      buttonEl.style.display =\n",
              "        google.colab.kernel.accessAllowed ? 'block' : 'none';\n",
              "\n",
              "      async function convertToInteractive(key) {\n",
              "        const element = document.querySelector('#df-cd4b0e13-4000-4880-94b3-77b7c1fbf44e');\n",
              "        const dataTable =\n",
              "          await google.colab.kernel.invokeFunction('convertToInteractive',\n",
              "                                                    [key], {});\n",
              "        if (!dataTable) return;\n",
              "\n",
              "        const docLinkHtml = 'Like what you see? Visit the ' +\n",
              "          '<a target=\"_blank\" href=https://colab.research.google.com/notebooks/data_table.ipynb>data table notebook</a>'\n",
              "          + ' to learn more about interactive tables.';\n",
              "        element.innerHTML = '';\n",
              "        dataTable['output_type'] = 'display_data';\n",
              "        await google.colab.output.renderOutput(dataTable, element);\n",
              "        const docLink = document.createElement('div');\n",
              "        docLink.innerHTML = docLinkHtml;\n",
              "        element.appendChild(docLink);\n",
              "      }\n",
              "    </script>\n",
              "  </div>\n",
              "\n",
              "\n",
              "<div id=\"df-8efb1c30-580a-4b9e-b76a-890bfd822f18\">\n",
              "  <button class=\"colab-df-quickchart\" onclick=\"quickchart('df-8efb1c30-580a-4b9e-b76a-890bfd822f18')\"\n",
              "            title=\"Suggest charts\"\n",
              "            style=\"display:none;\">\n",
              "\n",
              "<svg xmlns=\"http://www.w3.org/2000/svg\" height=\"24px\"viewBox=\"0 0 24 24\"\n",
              "     width=\"24px\">\n",
              "    <g>\n",
              "        <path d=\"M19 3H5c-1.1 0-2 .9-2 2v14c0 1.1.9 2 2 2h14c1.1 0 2-.9 2-2V5c0-1.1-.9-2-2-2zM9 17H7v-7h2v7zm4 0h-2V7h2v10zm4 0h-2v-4h2v4z\"/>\n",
              "    </g>\n",
              "</svg>\n",
              "  </button>\n",
              "\n",
              "<style>\n",
              "  .colab-df-quickchart {\n",
              "      --bg-color: #E8F0FE;\n",
              "      --fill-color: #1967D2;\n",
              "      --hover-bg-color: #E2EBFA;\n",
              "      --hover-fill-color: #174EA6;\n",
              "      --disabled-fill-color: #AAA;\n",
              "      --disabled-bg-color: #DDD;\n",
              "  }\n",
              "\n",
              "  [theme=dark] .colab-df-quickchart {\n",
              "      --bg-color: #3B4455;\n",
              "      --fill-color: #D2E3FC;\n",
              "      --hover-bg-color: #434B5C;\n",
              "      --hover-fill-color: #FFFFFF;\n",
              "      --disabled-bg-color: #3B4455;\n",
              "      --disabled-fill-color: #666;\n",
              "  }\n",
              "\n",
              "  .colab-df-quickchart {\n",
              "    background-color: var(--bg-color);\n",
              "    border: none;\n",
              "    border-radius: 50%;\n",
              "    cursor: pointer;\n",
              "    display: none;\n",
              "    fill: var(--fill-color);\n",
              "    height: 32px;\n",
              "    padding: 0;\n",
              "    width: 32px;\n",
              "  }\n",
              "\n",
              "  .colab-df-quickchart:hover {\n",
              "    background-color: var(--hover-bg-color);\n",
              "    box-shadow: 0 1px 2px rgba(60, 64, 67, 0.3), 0 1px 3px 1px rgba(60, 64, 67, 0.15);\n",
              "    fill: var(--button-hover-fill-color);\n",
              "  }\n",
              "\n",
              "  .colab-df-quickchart-complete:disabled,\n",
              "  .colab-df-quickchart-complete:disabled:hover {\n",
              "    background-color: var(--disabled-bg-color);\n",
              "    fill: var(--disabled-fill-color);\n",
              "    box-shadow: none;\n",
              "  }\n",
              "\n",
              "  .colab-df-spinner {\n",
              "    border: 2px solid var(--fill-color);\n",
              "    border-color: transparent;\n",
              "    border-bottom-color: var(--fill-color);\n",
              "    animation:\n",
              "      spin 1s steps(1) infinite;\n",
              "  }\n",
              "\n",
              "  @keyframes spin {\n",
              "    0% {\n",
              "      border-color: transparent;\n",
              "      border-bottom-color: var(--fill-color);\n",
              "      border-left-color: var(--fill-color);\n",
              "    }\n",
              "    20% {\n",
              "      border-color: transparent;\n",
              "      border-left-color: var(--fill-color);\n",
              "      border-top-color: var(--fill-color);\n",
              "    }\n",
              "    30% {\n",
              "      border-color: transparent;\n",
              "      border-left-color: var(--fill-color);\n",
              "      border-top-color: var(--fill-color);\n",
              "      border-right-color: var(--fill-color);\n",
              "    }\n",
              "    40% {\n",
              "      border-color: transparent;\n",
              "      border-right-color: var(--fill-color);\n",
              "      border-top-color: var(--fill-color);\n",
              "    }\n",
              "    60% {\n",
              "      border-color: transparent;\n",
              "      border-right-color: var(--fill-color);\n",
              "    }\n",
              "    80% {\n",
              "      border-color: transparent;\n",
              "      border-right-color: var(--fill-color);\n",
              "      border-bottom-color: var(--fill-color);\n",
              "    }\n",
              "    90% {\n",
              "      border-color: transparent;\n",
              "      border-bottom-color: var(--fill-color);\n",
              "    }\n",
              "  }\n",
              "</style>\n",
              "\n",
              "  <script>\n",
              "    async function quickchart(key) {\n",
              "      const quickchartButtonEl =\n",
              "        document.querySelector('#' + key + ' button');\n",
              "      quickchartButtonEl.disabled = true;  // To prevent multiple clicks.\n",
              "      quickchartButtonEl.classList.add('colab-df-spinner');\n",
              "      try {\n",
              "        const charts = await google.colab.kernel.invokeFunction(\n",
              "            'suggestCharts', [key], {});\n",
              "      } catch (error) {\n",
              "        console.error('Error during call to suggestCharts:', error);\n",
              "      }\n",
              "      quickchartButtonEl.classList.remove('colab-df-spinner');\n",
              "      quickchartButtonEl.classList.add('colab-df-quickchart-complete');\n",
              "    }\n",
              "    (() => {\n",
              "      let quickchartButtonEl =\n",
              "        document.querySelector('#df-8efb1c30-580a-4b9e-b76a-890bfd822f18 button');\n",
              "      quickchartButtonEl.style.display =\n",
              "        google.colab.kernel.accessAllowed ? 'block' : 'none';\n",
              "    })();\n",
              "  </script>\n",
              "</div>\n",
              "\n",
              "    </div>\n",
              "  </div>\n"
            ]
          },
          "metadata": {},
          "execution_count": 30
        }
      ]
    },
    {
      "cell_type": "code",
      "source": [
        "votinh_reg_xgb_pred = voting_reg.predict(x_test)"
      ],
      "metadata": {
        "id": "AyNsURSDHNPY"
      },
      "execution_count": 36,
      "outputs": []
    },
    {
      "cell_type": "code",
      "source": [
        "r2_score(votinh_reg_xgb_pred, y_test)"
      ],
      "metadata": {
        "colab": {
          "base_uri": "https://localhost:8080/"
        },
        "id": "XefaH4-mIOOo",
        "outputId": "91b8b8c2-93ed-4f40-e98f-5d2bcbb59690"
      },
      "execution_count": 37,
      "outputs": [
        {
          "output_type": "execute_result",
          "data": {
            "text/plain": [
              "0.9905897755332761"
            ]
          },
          "metadata": {},
          "execution_count": 37
        }
      ]
    },
    {
      "cell_type": "code",
      "source": [
        "model = VotingRegressor([\n",
        "    (\"lgb_1\", lgb.LGBMRegressor(**best_params_lgb_d, random_state = 100)),\n",
        "    (\"lgb_2\", lgb.LGBMRegressor(**best_params_lgb_d, random_state = 101)),\n",
        "    (\"lgb_3\", lgb.LGBMRegressor(**best_params_lgb_d, random_state = 102)),\n",
        "])\n",
        "\n",
        "model.fit(x_train, y_train)"
      ],
      "metadata": {
        "execution": {
          "iopub.status.busy": "2024-01-13T17:25:30.205646Z",
          "iopub.execute_input": "2024-01-13T17:25:30.206018Z",
          "iopub.status.idle": "2024-01-13T17:25:59.684549Z",
          "shell.execute_reply.started": "2024-01-13T17:25:30.205990Z",
          "shell.execute_reply": "2024-01-13T17:25:59.683719Z"
        },
        "trusted": true,
        "id": "MhaFQ7IrFgmK"
      },
      "execution_count": null,
      "outputs": []
    },
    {
      "cell_type": "code",
      "source": [
        "voting_regressor_pred = model.predict(x_test)"
      ],
      "metadata": {
        "colab": {
          "base_uri": "https://localhost:8080/"
        },
        "id": "KiQy8MfAmsa4",
        "outputId": "8c52311e-34b9-4dad-d064-acdffbf5f587"
      },
      "execution_count": 27,
      "outputs": [
        {
          "output_type": "stream",
          "name": "stdout",
          "text": [
            "[LightGBM] [Warning] min_data_in_leaf is set=186, min_child_samples=20 will be ignored. Current value: min_data_in_leaf=186\n",
            "[LightGBM] [Warning] lambda_l2 is set=1.6591278779517808, reg_lambda=0.0 will be ignored. Current value: lambda_l2=1.6591278779517808\n",
            "[LightGBM] [Warning] lambda_l1 is set=3.6277555139102864, reg_alpha=0.0 will be ignored. Current value: lambda_l1=3.6277555139102864\n",
            "[LightGBM] [Warning] Accuracy may be bad since you didn't explicitly set num_leaves OR 2^max_depth > num_leaves. (num_leaves=31).\n",
            "[LightGBM] [Warning] min_data_in_leaf is set=186, min_child_samples=20 will be ignored. Current value: min_data_in_leaf=186\n",
            "[LightGBM] [Warning] lambda_l2 is set=1.6591278779517808, reg_lambda=0.0 will be ignored. Current value: lambda_l2=1.6591278779517808\n",
            "[LightGBM] [Warning] lambda_l1 is set=3.6277555139102864, reg_alpha=0.0 will be ignored. Current value: lambda_l1=3.6277555139102864\n",
            "[LightGBM] [Warning] Accuracy may be bad since you didn't explicitly set num_leaves OR 2^max_depth > num_leaves. (num_leaves=31).\n",
            "[LightGBM] [Warning] min_data_in_leaf is set=186, min_child_samples=20 will be ignored. Current value: min_data_in_leaf=186\n",
            "[LightGBM] [Warning] lambda_l2 is set=1.6591278779517808, reg_lambda=0.0 will be ignored. Current value: lambda_l2=1.6591278779517808\n",
            "[LightGBM] [Warning] lambda_l1 is set=3.6277555139102864, reg_alpha=0.0 will be ignored. Current value: lambda_l1=3.6277555139102864\n",
            "[LightGBM] [Warning] Accuracy may be bad since you didn't explicitly set num_leaves OR 2^max_depth > num_leaves. (num_leaves=31).\n"
          ]
        }
      ]
    },
    {
      "cell_type": "code",
      "source": [
        "plt.figure(figsize = (10, 6))\n",
        "plt.scatter(y_test[:4000], voting_regressor_pred[:4000], alpha = 0.5)\n",
        "plt.xlabel(\"Asıl Değer\")\n",
        "plt.ylabel(\"Tahmin Edilen Değer\")\n",
        "plt.title(\"Asıl vs Tahmin Edilen Değer\")\n",
        "plt.plot([y_test[:4000].min(), y_test[:4000].max()], [y_test[:4000].min(), y_test[:4000].max()])\n",
        "plt.show()"
      ],
      "metadata": {
        "id": "6x3Eky8rf0w8"
      },
      "execution_count": null,
      "outputs": []
    },
    {
      "cell_type": "code",
      "source": [
        "r2_score(voting_regressor_pred, y_test)"
      ],
      "metadata": {
        "colab": {
          "base_uri": "https://localhost:8080/"
        },
        "id": "9QzTF-RMGrDv",
        "outputId": "e901cdc9-e024-4e0b-c174-2408da37ade3"
      },
      "execution_count": 23,
      "outputs": [
        {
          "output_type": "execute_result",
          "data": {
            "text/plain": [
              "0.9762176170192084"
            ]
          },
          "metadata": {},
          "execution_count": 23
        }
      ]
    },
    {
      "cell_type": "code",
      "source": [
        "xgb_model = VotingRegressor([\n",
        "    (\"xgb_1\", XGBRegressor(**best_params_lgb_d, enable_categorical = True)),\n",
        "    (\"xgb_2\", XGBRegressor(**best_params_lgb_d, enable_categorical = True)),\n",
        "    (\"xgb_3\", XGBRegressor(**best_params_lgb_d, enable_categorical = True)),\n",
        "])\n",
        "\n",
        "xgb_model.fit(x_train, y_train)"
      ],
      "metadata": {
        "id": "9ohifgAoV-VN"
      },
      "execution_count": null,
      "outputs": []
    },
    {
      "cell_type": "code",
      "source": [
        "y_pred = xgb_model.predict(x_test)"
      ],
      "metadata": {
        "execution": {
          "iopub.status.busy": "2024-01-13T17:25:59.688239Z",
          "iopub.execute_input": "2024-01-13T17:25:59.689274Z",
          "iopub.status.idle": "2024-01-13T17:26:01.854452Z",
          "shell.execute_reply.started": "2024-01-13T17:25:59.689236Z",
          "shell.execute_reply": "2024-01-13T17:26:01.853677Z"
        },
        "trusted": true,
        "id": "U6P94vRgFgmL"
      },
      "execution_count": null,
      "outputs": []
    },
    {
      "cell_type": "code",
      "source": [
        "r2_score(np.array(y_pred), y_test)"
      ],
      "metadata": {
        "id": "X6Cq1f5IMCir"
      },
      "execution_count": null,
      "outputs": []
    },
    {
      "cell_type": "code",
      "source": [
        "dump(xgb_model, \"/content/drive/MyDrive/SavedModels/voting_regressor_xgb.joblib\")\n",
        "#voting_reg = load(\"voting_regressor_xgb.joblib\") if you want to load the model\n",
        "\n",
        "dump(model, \"/content/drive/MyDrive/SavedModels/voting_regressor_lgb.joblib\")\n",
        "#voting_reg = load(\"voting_regressor_lgb.joblib\") if you want to load the model"
      ],
      "metadata": {
        "id": "qneXwIkkOzkR"
      },
      "execution_count": null,
      "outputs": []
    }
  ]
}